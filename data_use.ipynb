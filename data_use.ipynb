{
 "cells": [
  {
   "cell_type": "code",
   "execution_count": 1,
   "metadata": {},
   "outputs": [],
   "source": [
    "import numpy as np\n",
    "from data_visualise import Visibility\n",
    "np.set_printoptions(suppress=True)"
   ]
  },
  {
   "cell_type": "code",
   "execution_count": 2,
   "metadata": {},
   "outputs": [],
   "source": [
    "visibility = Visibility(area_names=[0, 1, 2, 3], sampling=\"random\", sample_ratio=100)"
   ]
  },
  {
   "cell_type": "code",
   "execution_count": 3,
   "metadata": {},
   "outputs": [
    {
     "name": "stderr",
     "output_type": "stream",
     "text": [
      "30it [00:04,  6.78it/s]\n",
      "4it [00:00,  7.93it/s]\n",
      "43it [00:06,  6.89it/s]\n",
      "15it [00:03,  4.57it/s]\n"
     ]
    }
   ],
   "source": [
    "visibility.import_data()"
   ]
  },
  {
   "cell_type": "code",
   "execution_count": 4,
   "metadata": {},
   "outputs": [
    {
     "name": "stdout",
     "output_type": "stream",
     "text": [
      "** 1/3 **\n",
      "Step 1/7\n",
      "Step 2/7\n",
      "Step 3/7\n",
      "Step 4/7\n",
      "Step 5/7\n",
      "Step 6/7\n",
      "Step 7/7\n"
     ]
    },
    {
     "name": "stderr",
     "output_type": "stream",
     "text": [
      "100%|██████████| 90500000/90500000 [00:37<00:00, 2415624.52it/s]\n"
     ]
    },
    {
     "name": "stdout",
     "output_type": "stream",
     "text": [
      "** 2/3 **\n",
      "Step 1/7\n",
      "Step 2/7\n",
      "Step 3/7\n",
      "Step 4/7\n",
      "Step 5/7\n",
      "Step 6/7\n",
      "Step 7/7\n"
     ]
    },
    {
     "name": "stderr",
     "output_type": "stream",
     "text": [
      "100%|██████████| 90500000/90500000 [00:43<00:00, 2093435.20it/s]\n"
     ]
    },
    {
     "name": "stdout",
     "output_type": "stream",
     "text": [
      "** 3/3 **\n",
      "Step 1/7\n",
      "Step 2/7\n",
      "Step 3/7\n",
      "Step 4/7\n",
      "Step 5/7\n",
      "Step 6/7\n",
      "Step 7/7\n"
     ]
    },
    {
     "name": "stderr",
     "output_type": "stream",
     "text": [
      "100%|██████████| 90500000/90500000 [00:38<00:00, 2343824.57it/s]\n"
     ]
    }
   ],
   "source": [
    "# p = np.array([[-17984.5499, -60094.5184, 10]])\n",
    "p = np.array([[-18122.7802, -59875.4444, 10],\n",
    "              [-17984.5499, -60094.5184, 10],\n",
    "              [-17891.5317, -60230.2960, 10]])\n",
    "visibility.raycast(p, n_xy=500000, n_xz=10000)"
   ]
  },
  {
   "cell_type": "code",
   "execution_count": 5,
   "metadata": {},
   "outputs": [],
   "source": [
    "visibility.add_observeds()"
   ]
  },
  {
   "cell_type": "code",
   "execution_count": 6,
   "metadata": {},
   "outputs": [
    {
     "name": "stdout",
     "output_type": "stream",
     "text": [
      "1\n",
      "2\n",
      "3\n"
     ]
    }
   ],
   "source": [
    "visibility.colour(colour='original')"
   ]
  },
  {
   "cell_type": "code",
   "execution_count": 7,
   "metadata": {},
   "outputs": [],
   "source": [
    "visibility.export_data(version='2-1')"
   ]
  },
  {
   "cell_type": "code",
   "execution_count": 10,
   "metadata": {},
   "outputs": [
    {
     "data": {
      "text/plain": [
       "2297087"
      ]
     },
     "execution_count": 10,
     "metadata": {},
     "output_type": "execute_result"
    }
   ],
   "source": [
    "len(visibility.visible_count_array[visibility.visible_count_array == 1])"
   ]
  },
  {
   "cell_type": "code",
   "execution_count": null,
   "metadata": {},
   "outputs": [],
   "source": []
  }
 ],
 "metadata": {
  "kernelspec": {
   "display_name": "dmp_hackathon",
   "language": "python",
   "name": "python3"
  },
  "language_info": {
   "codemirror_mode": {
    "name": "ipython",
    "version": 3
   },
   "file_extension": ".py",
   "mimetype": "text/x-python",
   "name": "python",
   "nbconvert_exporter": "python",
   "pygments_lexer": "ipython3",
   "version": "3.11.8"
  }
 },
 "nbformat": 4,
 "nbformat_minor": 2
}
