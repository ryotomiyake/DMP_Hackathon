{
 "cells": [
  {
   "cell_type": "code",
   "execution_count": 1,
   "metadata": {},
   "outputs": [],
   "source": [
    "import numpy as np\n",
    "from data_visualise import Visibility"
   ]
  },
  {
   "cell_type": "code",
   "execution_count": 2,
   "metadata": {},
   "outputs": [],
   "source": [
    "visibility = Visibility(area_names=[1], sampling=\"random\", sample_ratio=100)"
   ]
  },
  {
   "cell_type": "code",
   "execution_count": 3,
   "metadata": {},
   "outputs": [
    {
     "name": "stderr",
     "output_type": "stream",
     "text": [
      "0it [00:00, ?it/s]"
     ]
    },
    {
     "name": "stderr",
     "output_type": "stream",
     "text": [
      "4it [00:00,  7.43it/s]\n"
     ]
    }
   ],
   "source": [
    "visibility.import_data()"
   ]
  },
  {
   "cell_type": "code",
   "execution_count": 4,
   "metadata": {},
   "outputs": [
    {
     "name": "stdout",
     "output_type": "stream",
     "text": [
      "** 1/3 **\n",
      "Step 1/7\n",
      "Step 2/7\n",
      "Step 3/7\n",
      "Step 4/7\n",
      "Step 5/7\n",
      "Step 6/7\n",
      "Step 7/7\n"
     ]
    },
    {
     "name": "stderr",
     "output_type": "stream",
     "text": [
      "100%|██████████| 3330000/3330000 [00:01<00:00, 2449737.67it/s]\n"
     ]
    },
    {
     "name": "stdout",
     "output_type": "stream",
     "text": [
      "** 2/3 **\n",
      "Step 1/7\n",
      "Step 2/7\n",
      "Step 3/7\n",
      "Step 4/7\n",
      "Step 5/7\n",
      "Step 6/7\n",
      "Step 7/7\n"
     ]
    },
    {
     "name": "stderr",
     "output_type": "stream",
     "text": [
      "100%|██████████| 3330000/3330000 [00:01<00:00, 2635588.98it/s]\n"
     ]
    },
    {
     "name": "stdout",
     "output_type": "stream",
     "text": [
      "** 3/3 **\n",
      "Step 1/7\n",
      "Step 2/7\n",
      "Step 3/7\n",
      "Step 4/7\n",
      "Step 5/7\n",
      "Step 6/7\n",
      "Step 7/7\n"
     ]
    },
    {
     "name": "stderr",
     "output_type": "stream",
     "text": [
      "100%|██████████| 3330000/3330000 [00:01<00:00, 2483226.18it/s]\n"
     ]
    }
   ],
   "source": [
    "p = np.array([[-17984.5499, -60094.5184, 10],\n",
    "              [-17984.5499, -60100.5184, 8],\n",
    "              [-17984.5499, -60120.5184, 4]])\n",
    "visibility.raycast(p, n_xy=500000, n_xz=10000)"
   ]
  },
  {
   "cell_type": "code",
   "execution_count": 5,
   "metadata": {},
   "outputs": [],
   "source": [
    "visibility.add_observeds()"
   ]
  },
  {
   "cell_type": "code",
   "execution_count": 6,
   "metadata": {},
   "outputs": [
    {
     "name": "stdout",
     "output_type": "stream",
     "text": [
      "3330000\n",
      "3360000\n",
      "[(0, 65535, 0), (65535, 65535, 0), (65535, 0, 0)]\n",
      "1\n",
      "2\n",
      "3\n"
     ]
    }
   ],
   "source": [
    "visibility.colour(colour='grey')"
   ]
  },
  {
   "cell_type": "code",
   "execution_count": 7,
   "metadata": {},
   "outputs": [],
   "source": [
    "visibility.export_data()"
   ]
  },
  {
   "cell_type": "code",
   "execution_count": 8,
   "metadata": {},
   "outputs": [
    {
     "name": "stdout",
     "output_type": "stream",
     "text": [
      "Jupyter environment detected. Enabling Open3D WebVisualizer.\n",
      "[Open3D INFO] WebRTC GUI backend enabled.\n",
      "[Open3D INFO] WebRTCWindowSystem: HTTP handshake server disabled.\n"
     ]
    }
   ],
   "source": [
    "import open3d\n",
    "\n"
   ]
  }
 ],
 "metadata": {
  "kernelspec": {
   "display_name": "dmp_hackathon",
   "language": "python",
   "name": "python3"
  },
  "language_info": {
   "codemirror_mode": {
    "name": "ipython",
    "version": 3
   },
   "file_extension": ".py",
   "mimetype": "text/x-python",
   "name": "python",
   "nbconvert_exporter": "python",
   "pygments_lexer": "ipython3",
   "version": "3.11.8"
  }
 },
 "nbformat": 4,
 "nbformat_minor": 2
}
